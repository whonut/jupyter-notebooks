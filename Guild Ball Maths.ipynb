{
 "cells": [
  {
   "cell_type": "code",
   "execution_count": 2,
   "metadata": {},
   "outputs": [
    {
     "data": {
      "text/html": [
       "<script>requirejs.config({paths: { 'plotly': ['https://cdn.plot.ly/plotly-latest.min']},});if(!window.Plotly) {{require(['plotly'],function(plotly) {window.Plotly=plotly;});}}</script>"
      ],
      "text/vnd.plotly.v1+html": [
       "<script>requirejs.config({paths: { 'plotly': ['https://cdn.plot.ly/plotly-latest.min']},});if(!window.Plotly) {{require(['plotly'],function(plotly) {window.Plotly=plotly;});}}</script>"
      ]
     },
     "metadata": {},
     "output_type": "display_data"
    },
    {
     "data": {
      "application/vnd.jupyter.widget-view+json": {
       "model_id": "c951f5bafc0a4ef1aa0f7c66d8bb5b7f"
      }
     },
     "metadata": {},
     "output_type": "display_data"
    }
   ],
   "source": [
    "from plotly.offline import init_notebook_mode, iplot\n",
    "from plotly.graph_objs import Scatter, Layout\n",
    "from scipy.stats import binom\n",
    "from ipywidgets import interact, IntSlider\n",
    "\n",
    "init_notebook_mode(connected=True)\n",
    "\n",
    "@interact(dice=IntSlider(min=1, max=12), tn=IntSlider(min=2, max=6))\n",
    "def plot_hits(dice, tn):\n",
    "    probabilities = [round(binom.cdf(dice-h, dice, (tn-1)/6), 3) * 100 for h in range(dice+1)]\n",
    "    x_range = list(range(0, dice+1))\n",
    "    layout = Layout(\n",
    "                 title='Probability of N its for a given TN and dice pool',\n",
    "                 xaxis={'title': 'Number of hits',\n",
    "                        'ticktext': ['{}+'.format(n) for n in x_range],\n",
    "                        'tickvals': x_range\n",
    "                       },\n",
    "                 yaxis={'title': 'Probability (%)'}\n",
    "             )\n",
    "    iplot({'data': [Scatter(x=x_range, y=probabilities)], 'layout': layout})"
   ]
  }
 ],
 "metadata": {
  "kernelspec": {
   "display_name": "Python 3",
   "language": "python",
   "name": "python3"
  },
  "language_info": {
   "codemirror_mode": {
    "name": "ipython",
    "version": 3
   },
   "file_extension": ".py",
   "mimetype": "text/x-python",
   "name": "python",
   "nbconvert_exporter": "python",
   "pygments_lexer": "ipython3",
   "version": "3.5.2"
  }
 },
 "nbformat": 4,
 "nbformat_minor": 2
}
