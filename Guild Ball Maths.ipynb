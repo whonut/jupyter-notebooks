{
 "cells": [
  {
   "cell_type": "code",
   "execution_count": null,
   "metadata": {},
   "outputs": [],
   "source": [
    "%%html\n",
    "<style>\n",
    "div.input {\n",
    "    display:none;\n",
    "}\n",
    "</style>"
   ]
  },
  {
   "cell_type": "markdown",
   "metadata": {},
   "source": [
    "# Exploring the mathematics of Guild Ball\n",
    "\n",
    "Hello! This is a Jupyter notebook, basically a self-contained playground for Python programming. Below you'll find some interactive visualisations of the probabilities involved in the miniatures game [Guild Ball](http://steamforged.com/guildball) (along with the code that makes them, if you're into that). To play around with the visualisations, simply select `Cell>Run All` from the menus above.\n",
    "\n",
    "## Target Number Tests\n",
    "### Probabilities & expected values\n",
    "Below is a visualisation of the probabilities involved in a general TN test. It also shows the expected value of the test, which is the average number of hits. You can use the sliders to adjust the dice pool and target number for the test."
   ]
  },
  {
   "cell_type": "code",
   "execution_count": 97,
   "metadata": {},
   "outputs": [
    {
     "data": {
      "text/html": [
       "<script>requirejs.config({paths: { 'plotly': ['https://cdn.plot.ly/plotly-latest.min']},});if(!window.Plotly) {{require(['plotly'],function(plotly) {window.Plotly=plotly;});}}</script>"
      ],
      "text/vnd.plotly.v1+html": [
       "<script>requirejs.config({paths: { 'plotly': ['https://cdn.plot.ly/plotly-latest.min']},});if(!window.Plotly) {{require(['plotly'],function(plotly) {window.Plotly=plotly;});}}</script>"
      ]
     },
     "metadata": {},
     "output_type": "display_data"
    },
    {
     "data": {
      "application/vnd.jupyter.widget-view+json": {
       "model_id": "fe7b1c8f614f4621a0412d6e58b82dde"
      }
     },
     "metadata": {},
     "output_type": "display_data"
    }
   ],
   "source": [
    "from plotly.offline import init_notebook_mode, iplot\n",
    "from plotly.graph_objs import Scatter, Layout, Data\n",
    "import plotly.figure_factory as ff\n",
    "from scipy.stats import binom\n",
    "from ipywidgets import interact, IntSlider\n",
    "\n",
    "init_notebook_mode(connected=True)\n",
    "\n",
    "\n",
    "def tn_test(dice, tn, cumm=True):\n",
    "    '''\n",
    "    Returns a dictionary representing the probability distribution\n",
    "    for a TN test with target number `tn` and dice pool `dice`. Each\n",
    "    key is a number of hits. If `cumm` is True, the corresponding value\n",
    "    is the probability of getting at least that many hits. Otherwise it\n",
    "    is the probability of getting exactly that many hits.\n",
    "    '''\n",
    "    hit_range = list(range(dice+1))\n",
    "    if cumm:\n",
    "        return {h: round(binom.cdf(dice-h, dice, (tn-1)/6), 3) for h in hit_range}\n",
    "    return {h: round(binom.pmf(h, dice, (7-tn)/6), 3) for h in hit_range}\n",
    "\n",
    "dice_slider = IntSlider(min=1, max=12, description=\"Dice Pool\")\n",
    "tn_slider = IntSlider(min=2, max=6, description=\"Target Number\")\n",
    "@interact(dice=dice_slider, tn=tn_slider)\n",
    "def plot_succeses(dice, tn):\n",
    "    # Data generation\n",
    "    hit_range, probabilities = zip(*tn_test(dice, tn).items())\n",
    "    percentages = list(map(lambda p: p * 100, probabilities))\n",
    "\n",
    "    # Table\n",
    "    table_data = [['Number of hits', 'Probability (%)'],\n",
    "                  *(['{}+'.format(n), percentages[n]] for n in hit_range)\n",
    "                 ]\n",
    "    probs_figure = ff.create_table(table_data, height_constant=80)\n",
    "\n",
    "    # Scatter plot\n",
    "    trace = Scatter(x=hit_range, y=percentages, mode='markers', xaxis='x2', yaxis='y2')\n",
    "    probs_figure['data'].extend(Data([trace]))\n",
    "\n",
    "    probs_figure.layout.xaxis.update({'domain': [0, .33]})\n",
    "    probs_figure.layout.xaxis2.update({'domain': [0.43, 1.],\n",
    "                                       'title': 'Number of hits',\n",
    "                                       'ticktext': ['{}+'.format(n) for n in hit_range],\n",
    "                                       'tickvals': hit_range\n",
    "                                })\n",
    "    probs_figure.layout.yaxis2.update({'anchor': 'x2',\n",
    "                                       'title': 'Probability (%)',\n",
    "                                       'range': (0, 110)\n",
    "                                })\n",
    "    probs_figure.layout.margin.update({'t':50, 'b':100})\n",
    "    probs_figure.layout.update({'title': 'Probability of N successes for a given TN and dice pool'})\n",
    "    \n",
    "    iplot(probs_figure)\n",
    "    # Expected value\n",
    "    table = ff.create_table([['Expected value:', round(dice*(7-tn)/6, 1)]], font_colors=['#000000'])\n",
    "    table.layout.margin.update({'l': 300, 'r': 300})\n",
    "    iplot(table)"
   ]
  },
  {
   "cell_type": "markdown",
   "metadata": {},
   "source": [
    "### Confidence in hits\n",
    "The probabilities can be recast in a more useful way. Below is a table showing the number of hits that can be expected with a certain confidence (say, 80%). In other words, it shows you how many dice you have to roll to be confident of a certain number of hits. You can adjust the target number for the test and required confidence level using the sliders."
   ]
  },
  {
   "cell_type": "code",
   "execution_count": 78,
   "metadata": {},
   "outputs": [
    {
     "data": {
      "application/vnd.jupyter.widget-view+json": {
       "model_id": "0ba28c923f894a28959d464f61a821f2"
      }
     },
     "metadata": {},
     "output_type": "display_data"
    }
   ],
   "source": [
    "from ipywidgets import FloatSlider\n",
    "confidence_slider = FloatSlider(min=0,\n",
    "                                max=1,\n",
    "                                step=0.01,\n",
    "                                value=0.75,\n",
    "                                description='Confidence level',\n",
    "                                readout_format='.0%',\n",
    "                               )\n",
    "@interact(confidence=confidence_slider, tn=tn_slider)\n",
    "def confidence_table(confidence, tn):\n",
    "    table_data = [['Dice pool', 'Maximum number of hits with {}% confidence'.format(confidence*100)]]\n",
    "    for dice in range(1, 13):    # Show results for up to 12 dice\n",
    "        best_result = max(map(lambda t: t[0], filter(lambda t: t[1] >= confidence, tn_test(dice, tn).items())))\n",
    "        table_data.append([dice, best_result])\n",
    "    iplot(ff.create_table(table_data))"
   ]
  }
 ],
 "metadata": {
  "kernelspec": {
   "display_name": "Python 3",
   "language": "python",
   "name": "python3"
  },
  "language_info": {
   "codemirror_mode": {
    "name": "ipython",
    "version": 3
   },
   "file_extension": ".py",
   "mimetype": "text/x-python",
   "name": "python",
   "nbconvert_exporter": "python",
   "pygments_lexer": "ipython3",
   "version": "3.5.2"
  },
  "widgets": {
   "application/vnd.jupyter.widget-state+json": {
    "state": {
     "2706a6b7e3524ed0a0991ce9e20e5a33": {
      "model_module": "jupyter-js-widgets",
      "model_module_version": "~2.1.4",
      "model_name": "IntSliderModel",
      "state": {
       "_model_module_version": "~2.1.4",
       "_view_module_version": "~2.1.4",
       "description": "tn",
       "layout": "IPY_MODEL_b7f300f5b40f4e0fb4e0a4379c03929a",
       "max": 6,
       "min": 2,
       "style": "IPY_MODEL_d4f3032ec62c4ca5bdc58acfd06b5951",
       "value": 4
      }
     },
     "330b243bffcc4774aed4df15c84bc2fa": {
      "model_module": "jupyter-js-widgets",
      "model_module_version": "~2.1.4",
      "model_name": "LayoutModel",
      "state": {
       "_model_module_version": "~2.1.4",
       "_view_module_version": "~2.1.4"
      }
     },
     "433e8b03187f44908489bfc6c19859e7": {
      "model_module": "jupyter-js-widgets",
      "model_module_version": "~2.1.4",
      "model_name": "LayoutModel",
      "state": {
       "_model_module_version": "~2.1.4",
       "_view_module_version": "~2.1.4"
      }
     },
     "4e99907d116d4de88a723bc100e7872a": {
      "model_module": "jupyter-js-widgets",
      "model_module_version": "~2.1.4",
      "model_name": "LayoutModel",
      "state": {
       "_model_module_version": "~2.1.4",
       "_view_module_version": "~2.1.4"
      }
     },
     "57958059eefd40c280ce0e65bbaf6bf8": {
      "model_module": "jupyter-js-widgets",
      "model_module_version": "~2.1.4",
      "model_name": "VBoxModel",
      "state": {
       "_dom_classes": [
        "widget-interact"
       ],
       "_model_module_version": "~2.1.4",
       "_view_module_version": "~2.1.4",
       "children": [
        "IPY_MODEL_cb26b1303b7b4a629f70a435e1385020",
        "IPY_MODEL_2706a6b7e3524ed0a0991ce9e20e5a33",
        "IPY_MODEL_83cb35babc4a4a8bbf11592f2d16a6fe"
       ],
       "layout": "IPY_MODEL_330b243bffcc4774aed4df15c84bc2fa"
      }
     },
     "83cb35babc4a4a8bbf11592f2d16a6fe": {
      "model_module": "jupyter-js-widgets",
      "model_module_version": "~2.1.4",
      "model_name": "OutputModel",
      "state": {
       "_dom_classes": [],
       "_model_module": "jupyter-js-widgets",
       "_model_module_version": "~2.1.4",
       "_view_module": "jupyter-js-widgets",
       "_view_module_version": "~2.1.4",
       "layout": "IPY_MODEL_4e99907d116d4de88a723bc100e7872a",
       "msg_throttle": 1
      }
     },
     "920ba42871044b68a29322cea13bc946": {
      "model_module": "jupyter-js-widgets",
      "model_module_version": "~2.1.4",
      "model_name": "SliderStyleModel",
      "state": {
       "_model_module_version": "~2.1.4",
       "_view_module_version": "~2.1.4"
      }
     },
     "b7f300f5b40f4e0fb4e0a4379c03929a": {
      "model_module": "jupyter-js-widgets",
      "model_module_version": "~2.1.4",
      "model_name": "LayoutModel",
      "state": {
       "_model_module_version": "~2.1.4",
       "_view_module_version": "~2.1.4"
      }
     },
     "cb26b1303b7b4a629f70a435e1385020": {
      "model_module": "jupyter-js-widgets",
      "model_module_version": "~2.1.4",
      "model_name": "IntSliderModel",
      "state": {
       "_model_module_version": "~2.1.4",
       "_view_module_version": "~2.1.4",
       "description": "dice",
       "layout": "IPY_MODEL_433e8b03187f44908489bfc6c19859e7",
       "max": 12,
       "min": 1,
       "style": "IPY_MODEL_920ba42871044b68a29322cea13bc946",
       "value": 6
      }
     },
     "d4f3032ec62c4ca5bdc58acfd06b5951": {
      "model_module": "jupyter-js-widgets",
      "model_module_version": "~2.1.4",
      "model_name": "SliderStyleModel",
      "state": {
       "_model_module_version": "~2.1.4",
       "_view_module_version": "~2.1.4"
      }
     }
    },
    "version_major": 1,
    "version_minor": 0
   }
  }
 },
 "nbformat": 4,
 "nbformat_minor": 2
}
